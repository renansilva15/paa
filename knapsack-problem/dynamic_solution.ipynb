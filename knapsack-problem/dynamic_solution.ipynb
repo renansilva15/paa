{
 "cells": [
  {
   "cell_type": "markdown",
   "metadata": {},
   "source": [
    "# knapsack problem"
   ]
  },
  {
   "cell_type": "markdown",
   "metadata": {},
   "source": [
    "## The problem:\n",
    "![the problem](the-problem.png)"
   ]
  },
  {
   "cell_type": "markdown",
   "metadata": {},
   "source": [
    "## Input data"
   ]
  },
  {
   "cell_type": "code",
   "execution_count": 1,
   "metadata": {},
   "outputs": [
    {
     "name": "stdout",
     "output_type": "stream",
     "text": [
      "[3, 3, 3, 5, 5, 2, 2, 2, 2, 2]\n",
      "[40, 40, 40, 100, 100, 50, 50, 50, 50, 50]\n"
     ]
    }
   ],
   "source": [
    "weights = [3, 5, 2]\n",
    "values = [40, 100, 50]\n",
    "items_quantity = [3, 2, 5]\n",
    "max_capacity = 20\n",
    "\n",
    "# Both lists must be the same size\n",
    "n_of_items = len(weights) if len(weights) == len(values) else 0\n",
    "\n",
    "weights_aux = []\n",
    "values_aux = []\n",
    "\n",
    "# Replicates the values of each list based on the number of items\n",
    "for i in range(n_of_items):\n",
    "  for j in range(items_quantity[i]):\n",
    "    weights_aux.append(weights[i])\n",
    "    values_aux.append(values[i])\n",
    "\n",
    "weights = weights_aux\n",
    "values = values_aux\n",
    "n_of_items = len(weights) if len(weights) == len(values) else 0\n",
    "\n",
    "print(f'{weights}\\n{values}')"
   ]
  },
  {
   "cell_type": "markdown",
   "metadata": {},
   "source": [
    "## Dynamic solution"
   ]
  },
  {
   "cell_type": "code",
   "execution_count": 2,
   "metadata": {},
   "outputs": [],
   "source": [
    "import numpy as np\n",
    "\n",
    "def dynamic_solution(weights, values, max_capacity, n_of_items):\n",
    "  k = np.array([[0 for _ in range(max_capacity + 1)] for _ in range(n_of_items + 1)])\n",
    "\n",
    "  for i in range(n_of_items + 1):\n",
    "    for capacity in range(max_capacity + 1):\n",
    "      if i == 0 or capacity == 0:\n",
    "        k[i][capacity] = 0\n",
    "\n",
    "      elif weights[i - 1] <= capacity:\n",
    "        k[i][capacity] = max(values[i - 1] + k[i - 1][capacity - weights[i - 1]], k[i - 1][capacity])\n",
    "\n",
    "      else:\n",
    "        k[i][capacity] = k[i - 1][capacity]\n",
    "\n",
    "  return k[n_of_items][max_capacity]"
   ]
  },
  {
   "cell_type": "code",
   "execution_count": 3,
   "metadata": {},
   "outputs": [
    {
     "data": {
      "text/plain": [
       "450"
      ]
     },
     "execution_count": 3,
     "metadata": {},
     "output_type": "execute_result"
    }
   ],
   "source": [
    "dynamic_solution(weights, values, max_capacity, n_of_items)"
   ]
  }
 ],
 "metadata": {
  "kernelspec": {
   "display_name": "Python 3.9.7 ('daf')",
   "language": "python",
   "name": "python3"
  },
  "language_info": {
   "codemirror_mode": {
    "name": "ipython",
    "version": 3
   },
   "file_extension": ".py",
   "mimetype": "text/x-python",
   "name": "python",
   "nbconvert_exporter": "python",
   "pygments_lexer": "ipython3",
   "version": "3.9.7"
  },
  "orig_nbformat": 4,
  "vscode": {
   "interpreter": {
    "hash": "1e50ef2d9daf8a03c7e8bf0a5670d6a3dfd095b25c509e258ed02dcf1a61e22f"
   }
  }
 },
 "nbformat": 4,
 "nbformat_minor": 2
}
