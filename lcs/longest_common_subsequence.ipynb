{
 "cells": [
  {
   "cell_type": "markdown",
   "metadata": {},
   "source": [
    "# LCS (Longest Common Subsequence) problem"
   ]
  },
  {
   "cell_type": "markdown",
   "metadata": {},
   "source": [
    "## LCS class"
   ]
  },
  {
   "cell_type": "code",
   "execution_count": 56,
   "metadata": {},
   "outputs": [],
   "source": [
    "class LCS:\n",
    "\n",
    "  def __init__(self, string1: str, string2: str) -> None:\n",
    "    self.string1 = string1\n",
    "    self.string2 = string2\n",
    "    self.m = len(string1) + 1\n",
    "    self.n = len(string2) + 1\n",
    "    self.matrix = [[0] * (self.m + 1) for _ in range(self.n + 1)]\n",
    "  \n",
    "\n",
    "  def lenght(self) -> int: #\n",
    "    for r in range(1, self.m):\n",
    "      for c in range(1, self.n):\n",
    "        if self.string1[r - 1] == self.string2[c - 1]:\n",
    "          self.matrix[r][c] = 1 + self.matrix[r - 1][c - 1]\n",
    "        \n",
    "        else:\n",
    "          self.matrix[r][c] = max(self.matrix[r - 1][c], self.matrix[r][c - 1])\n",
    "    \n",
    "    return self.matrix[self.m - 1][self.n - 1]\n",
    "  \n",
    "  \n",
    "  def path(self): #\n",
    "    pass"
   ]
  },
  {
   "cell_type": "markdown",
   "metadata": {},
   "source": [
    "## Input data"
   ]
  },
  {
   "cell_type": "markdown",
   "metadata": {},
   "source": [
    "### File"
   ]
  },
  {
   "cell_type": "code",
   "execution_count": 57,
   "metadata": {},
   "outputs": [
    {
     "name": "stdout",
     "output_type": "stream",
     "text": [
      "AGTABG\n",
      " GATAUBG\n",
      "\n"
     ]
    }
   ],
   "source": [
    "file = open(\"test.txt\", \"r\")\n",
    "string1 = file.readline()\n",
    "string2 = file.readline()\n",
    "\n",
    "print(string1, string2)"
   ]
  },
  {
   "cell_type": "markdown",
   "metadata": {},
   "source": [
    "### Standard input"
   ]
  },
  {
   "cell_type": "code",
   "execution_count": 58,
   "metadata": {},
   "outputs": [],
   "source": [
    "string1 = 'AGTABG'\n",
    "string2 = 'GATAUBG'"
   ]
  },
  {
   "cell_type": "markdown",
   "metadata": {},
   "source": [
    "## A"
   ]
  },
  {
   "cell_type": "code",
   "execution_count": 59,
   "metadata": {},
   "outputs": [],
   "source": [
    "lcs = LCS(string1, string2)\n",
    "# lcs.lenght()"
   ]
  },
  {
   "cell_type": "code",
   "execution_count": 60,
   "metadata": {},
   "outputs": [],
   "source": [
    "lcs.path()"
   ]
  }
 ],
 "metadata": {
  "kernelspec": {
   "display_name": "Python 3.9.7 ('daf')",
   "language": "python",
   "name": "python3"
  },
  "language_info": {
   "codemirror_mode": {
    "name": "ipython",
    "version": 3
   },
   "file_extension": ".py",
   "mimetype": "text/x-python",
   "name": "python",
   "nbconvert_exporter": "python",
   "pygments_lexer": "ipython3",
   "version": "3.9.7"
  },
  "orig_nbformat": 4,
  "vscode": {
   "interpreter": {
    "hash": "1e50ef2d9daf8a03c7e8bf0a5670d6a3dfd095b25c509e258ed02dcf1a61e22f"
   }
  }
 },
 "nbformat": 4,
 "nbformat_minor": 2
}
