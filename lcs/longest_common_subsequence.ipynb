{
 "cells": [
  {
   "cell_type": "markdown",
   "metadata": {},
   "source": [
    "# LCS (Longest Common Subsequence) problem"
   ]
  },
  {
   "cell_type": "markdown",
   "metadata": {},
   "source": [
    "## LCS class"
   ]
  },
  {
   "cell_type": "code",
   "execution_count": 1,
   "metadata": {},
   "outputs": [],
   "source": [
    "class LCS:\n",
    "\n",
    "  diagonal = 1\n",
    "  up = 2\n",
    "  left = 3\n",
    "\n",
    "  def __init__(self, string1: str, string2: str) -> None:\n",
    "    self.string1 = string1\n",
    "    self.string2 = string2\n",
    "    self.m = len(string1)\n",
    "    self.n = len(string2)\n",
    "    self.matrix = [[0] * (self.n + 1) for _ in range(self.m + 1)]\n",
    "    self.paths = [[0] * (self.n + 1) for _ in range(self.m + 1)]\n",
    "  \n",
    "\n",
    "  def lenght(self) -> int: #\n",
    "    for r in range(1, self.m + 1):\n",
    "      for c in range(1, self.n + 1):\n",
    "        if self.string1[r - 1] == self.string2[c - 1]:\n",
    "          self.matrix[r][c] = 1 + self.matrix[r - 1][c - 1]\n",
    "          self.paths[r][c] = LCS.diagonal\n",
    "        \n",
    "        else:\n",
    "          self.matrix[r][c] = max(self.matrix[r - 1][c], self.matrix[r][c - 1])\n",
    "          self.paths[r][c] = LCS.up if self.matrix[r - 1][c] >= self.matrix[r][c - 1] else LCS.left\n",
    "    \n",
    "    return self.matrix[-1][-1]\n",
    "  \n",
    "  \n",
    "  def path(self, m: int, n: int) -> str: #\n",
    "    best_path = ''\n",
    "\n",
    "    if m == 0 or n == 0:\n",
    "      best_path = ''\n",
    "\n",
    "    elif self.paths[m][n] == LCS.diagonal:\n",
    "      best_path = self.path(m - 1, n - 1)\n",
    "\n",
    "      best_path += self.string1[m - 1]\n",
    "\n",
    "    elif self.paths[m][n] == LCS.up:\n",
    "      best_path = self.path(m - 1, n)\n",
    "    \n",
    "    else:\n",
    "      best_path = self.path(m, n - 1)\n",
    "    \n",
    "    return best_path"
   ]
  },
  {
   "cell_type": "markdown",
   "metadata": {},
   "source": [
    "## Input data"
   ]
  },
  {
   "cell_type": "markdown",
   "metadata": {},
   "source": [
    "### File"
   ]
  },
  {
   "cell_type": "code",
   "execution_count": 2,
   "metadata": {},
   "outputs": [
    {
     "name": "stdout",
     "output_type": "stream",
     "text": [
      "AGTABG\n",
      " GATAUBG\n",
      "\n"
     ]
    }
   ],
   "source": [
    "file = open(\"test.txt\", \"r\")\n",
    "string1 = file.readline()\n",
    "string2 = file.readline()\n",
    "\n",
    "print(string1, string2)"
   ]
  },
  {
   "cell_type": "markdown",
   "metadata": {},
   "source": [
    "### Standard input"
   ]
  },
  {
   "cell_type": "code",
   "execution_count": 3,
   "metadata": {},
   "outputs": [],
   "source": [
    "string1 = 'GATAUBG'\n",
    "string2 = 'AGTABG'\n",
    "\n",
    "# string1 = ''\n",
    "# string2 = ''"
   ]
  },
  {
   "cell_type": "markdown",
   "metadata": {},
   "source": [
    "## Tests"
   ]
  },
  {
   "cell_type": "code",
   "execution_count": 4,
   "metadata": {},
   "outputs": [
    {
     "data": {
      "text/plain": [
       "5"
      ]
     },
     "execution_count": 4,
     "metadata": {},
     "output_type": "execute_result"
    }
   ],
   "source": [
    "lcs = LCS(string1, string2)\n",
    "lcs.lenght()"
   ]
  },
  {
   "cell_type": "code",
   "execution_count": 5,
   "metadata": {},
   "outputs": [
    {
     "data": {
      "text/plain": [
       "'GTABG'"
      ]
     },
     "execution_count": 5,
     "metadata": {},
     "output_type": "execute_result"
    }
   ],
   "source": [
    "lcs.path(lcs.m, lcs.n)"
   ]
  }
 ],
 "metadata": {
  "kernelspec": {
   "display_name": "Python 3.9.7 ('daf')",
   "language": "python",
   "name": "python3"
  },
  "language_info": {
   "codemirror_mode": {
    "name": "ipython",
    "version": 3
   },
   "file_extension": ".py",
   "mimetype": "text/x-python",
   "name": "python",
   "nbconvert_exporter": "python",
   "pygments_lexer": "ipython3",
   "version": "3.9.7"
  },
  "orig_nbformat": 4,
  "vscode": {
   "interpreter": {
    "hash": "1e50ef2d9daf8a03c7e8bf0a5670d6a3dfd095b25c509e258ed02dcf1a61e22f"
   }
  }
 },
 "nbformat": 4,
 "nbformat_minor": 2
}
