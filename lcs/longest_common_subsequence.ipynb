{
 "cells": [
  {
   "cell_type": "markdown",
   "metadata": {},
   "source": [
    "# LCS (Longest Common Subsequence) problem"
   ]
  },
  {
   "cell_type": "markdown",
   "metadata": {},
   "source": [
    "## LCS class"
   ]
  },
  {
   "cell_type": "code",
   "execution_count": 26,
   "metadata": {},
   "outputs": [],
   "source": [
    "class LCS:\n",
    "\n",
    "  def __init__(self, string1: str, string2: str) -> None:\n",
    "    self.string1 = string1\n",
    "    self.string2 = string2\n",
    "    self.m = len(string1) + 1\n",
    "    self.n = len(string2) + 1\n",
    "    self.matrix = [[0] * (self.m + 1) for _ in range(self.n + 1)]\n",
    "  \n",
    "\n",
    "  def lenght(self) -> int: #\n",
    "    for r in range(1, self.m):\n",
    "      for c in range(1, self.n):\n",
    "        if self.string1[r - 1] == self.string2[c - 1]:\n",
    "          self.matrix[r][c] = 1 + self.matrix[r - 1][c - 1]\n",
    "        \n",
    "        else:\n",
    "          self.matrix[r][c] = max(self.matrix[r - 1][c], self.matrix[r][c - 1])\n",
    "    \n",
    "    return self.matrix[self.m - 1][self.n - 1]\n",
    "  \n",
    "  \n",
    "  def path(self): #\n",
    "    s = set()\n",
    "\n",
    "    if self.m == 0 or self.n == 0:\n",
    "        s.add('')\n",
    "\n",
    "    elif self.string1[self.m - 1] == self.string2[self.n - 1]:\n",
    "      self.m -= 1\n",
    "      self.n -= 1\n",
    "      temp = self.path()\n",
    "\n",
    "      for character in temp:\n",
    "        s.add(character + self.string1[self.m - 1])\n",
    "\n",
    "    else:\n",
    "      if self.matrix[self.m - 1][self.n] >= self.matrix[self.m][self.n - 1]:\n",
    "        self.m -= 1\n",
    "        s = self.path()\n",
    "      \n",
    "      if self.matrix[self.m][self.n - 1] >= self.matrix[self.m - 1][self.n]:\n",
    "        self.n -= 1\n",
    "        temp = self.path()\n",
    "        \n",
    "        for i in temp:\n",
    "          s.add(i)\n",
    "    \n",
    "    self.m = len(self.string1) + 1\n",
    "    self.n = len(self.string2) + 1\n",
    "    return s"
   ]
  },
  {
   "cell_type": "markdown",
   "metadata": {},
   "source": [
    "## Input data"
   ]
  },
  {
   "cell_type": "markdown",
   "metadata": {},
   "source": [
    "### File"
   ]
  },
  {
   "cell_type": "code",
   "execution_count": 27,
   "metadata": {},
   "outputs": [
    {
     "name": "stdout",
     "output_type": "stream",
     "text": [
      "AGTABG\n",
      " GATAUBG\n",
      "\n"
     ]
    }
   ],
   "source": [
    "file = open(\"test.txt\", \"r\")\n",
    "string1 = file.readline()\n",
    "string2 = file.readline()\n",
    "\n",
    "print(string1, string2)"
   ]
  },
  {
   "cell_type": "markdown",
   "metadata": {},
   "source": [
    "### Standard input"
   ]
  },
  {
   "cell_type": "code",
   "execution_count": 28,
   "metadata": {},
   "outputs": [],
   "source": [
    "string1 = 'AGTABG'\n",
    "string2 = 'GATAUBG'"
   ]
  },
  {
   "cell_type": "markdown",
   "metadata": {},
   "source": [
    "## A"
   ]
  },
  {
   "cell_type": "code",
   "execution_count": 29,
   "metadata": {},
   "outputs": [],
   "source": [
    "lcs = LCS(string1, string2)\n",
    "# lcs.lenght()"
   ]
  },
  {
   "cell_type": "code",
   "execution_count": 30,
   "metadata": {},
   "outputs": [
    {
     "ename": "IndexError",
     "evalue": "string index out of range",
     "output_type": "error",
     "traceback": [
      "\u001b[0;31m---------------------------------------------------------------------------\u001b[0m",
      "\u001b[0;31mIndexError\u001b[0m                                Traceback (most recent call last)",
      "\u001b[1;32m/mnt/c/renan/ufpi/2022.1/paa/lcs/longest_common_subsequence.ipynb Cell 11\u001b[0m in \u001b[0;36m<cell line: 1>\u001b[0;34m()\u001b[0m\n\u001b[0;32m----> <a href='vscode-notebook-cell://wsl%2Bubuntu/mnt/c/renan/ufpi/2022.1/paa/lcs/longest_common_subsequence.ipynb#X20sdnNjb2RlLXJlbW90ZQ%3D%3D?line=0'>1</a>\u001b[0m lcs\u001b[39m.\u001b[39;49mpath()\n",
      "\u001b[1;32m/mnt/c/renan/ufpi/2022.1/paa/lcs/longest_common_subsequence.ipynb Cell 11\u001b[0m in \u001b[0;36mLCS.path\u001b[0;34m(self)\u001b[0m\n\u001b[1;32m     <a href='vscode-notebook-cell://wsl%2Bubuntu/mnt/c/renan/ufpi/2022.1/paa/lcs/longest_common_subsequence.ipynb#X20sdnNjb2RlLXJlbW90ZQ%3D%3D?line=25'>26</a>\u001b[0m \u001b[39mif\u001b[39;00m \u001b[39mself\u001b[39m\u001b[39m.\u001b[39mm \u001b[39m==\u001b[39m \u001b[39m0\u001b[39m \u001b[39mor\u001b[39;00m \u001b[39mself\u001b[39m\u001b[39m.\u001b[39mn \u001b[39m==\u001b[39m \u001b[39m0\u001b[39m:\n\u001b[1;32m     <a href='vscode-notebook-cell://wsl%2Bubuntu/mnt/c/renan/ufpi/2022.1/paa/lcs/longest_common_subsequence.ipynb#X20sdnNjb2RlLXJlbW90ZQ%3D%3D?line=26'>27</a>\u001b[0m     s\u001b[39m.\u001b[39madd(\u001b[39m'\u001b[39m\u001b[39m'\u001b[39m)\n\u001b[0;32m---> <a href='vscode-notebook-cell://wsl%2Bubuntu/mnt/c/renan/ufpi/2022.1/paa/lcs/longest_common_subsequence.ipynb#X20sdnNjb2RlLXJlbW90ZQ%3D%3D?line=28'>29</a>\u001b[0m \u001b[39melif\u001b[39;00m \u001b[39mself\u001b[39;49m\u001b[39m.\u001b[39;49mstring1[\u001b[39mself\u001b[39;49m\u001b[39m.\u001b[39;49mm \u001b[39m-\u001b[39;49m \u001b[39m1\u001b[39;49m] \u001b[39m==\u001b[39m \u001b[39mself\u001b[39m\u001b[39m.\u001b[39mstring2[\u001b[39mself\u001b[39m\u001b[39m.\u001b[39mn \u001b[39m-\u001b[39m \u001b[39m1\u001b[39m]:\n\u001b[1;32m     <a href='vscode-notebook-cell://wsl%2Bubuntu/mnt/c/renan/ufpi/2022.1/paa/lcs/longest_common_subsequence.ipynb#X20sdnNjb2RlLXJlbW90ZQ%3D%3D?line=29'>30</a>\u001b[0m   \u001b[39mself\u001b[39m\u001b[39m.\u001b[39mm \u001b[39m-\u001b[39m\u001b[39m=\u001b[39m \u001b[39m1\u001b[39m\n\u001b[1;32m     <a href='vscode-notebook-cell://wsl%2Bubuntu/mnt/c/renan/ufpi/2022.1/paa/lcs/longest_common_subsequence.ipynb#X20sdnNjb2RlLXJlbW90ZQ%3D%3D?line=30'>31</a>\u001b[0m   \u001b[39mself\u001b[39m\u001b[39m.\u001b[39mn \u001b[39m-\u001b[39m\u001b[39m=\u001b[39m \u001b[39m1\u001b[39m\n",
      "\u001b[0;31mIndexError\u001b[0m: string index out of range"
     ]
    }
   ],
   "source": [
    "lcs.m -= 1\n",
    "lcs.n -= 1\n",
    "lcs.path()"
   ]
  }
 ],
 "metadata": {
  "kernelspec": {
   "display_name": "Python 3.9.7 ('daf')",
   "language": "python",
   "name": "python3"
  },
  "language_info": {
   "codemirror_mode": {
    "name": "ipython",
    "version": 3
   },
   "file_extension": ".py",
   "mimetype": "text/x-python",
   "name": "python",
   "nbconvert_exporter": "python",
   "pygments_lexer": "ipython3",
   "version": "3.9.7"
  },
  "orig_nbformat": 4,
  "vscode": {
   "interpreter": {
    "hash": "1e50ef2d9daf8a03c7e8bf0a5670d6a3dfd095b25c509e258ed02dcf1a61e22f"
   }
  }
 },
 "nbformat": 4,
 "nbformat_minor": 2
}
