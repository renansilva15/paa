{
 "cells": [
  {
   "cell_type": "markdown",
   "metadata": {},
   "source": [
    "# Kruskal Algorithm"
   ]
  },
  {
   "cell_type": "code",
   "execution_count": 1,
   "metadata": {},
   "outputs": [],
   "source": [
    "class KruskalGraph:\n",
    "\n",
    "  def __init__(self, vertices):\n",
    "    self.v = vertices # Número de vértice (pontos)\n",
    "    self.kruskal = []\n",
    "\n",
    "  def edge_add(self, p1, p2, weight): # Adiciona \"linhas\"\n",
    "    self.kruskal.append([p1, p2, weight])\n",
    "\n",
    "  def find(self, representative, i): #\n",
    "    aux = i\n",
    "\n",
    "    if representative[i] != i:\n",
    "      aux = self.find(representative, representative[i])\n",
    "    \n",
    "    return aux\n",
    "\n",
    "  def union(self, representative, rank, x, y):\n",
    "    x_root = self.find(representative, x)\n",
    "    y_root = self.find(representative, y)\n",
    "\n",
    "    if rank[x_root] < rank[y_root]:\n",
    "        representative[x_root] = y_root\n",
    "\n",
    "    elif rank[x_root] > rank[y_root]:\n",
    "        representative[y_root] = x_root\n",
    "\n",
    "    else:\n",
    "        representative[y_root] = x_root\n",
    "        rank[x_root] += 1\n",
    "  \n",
    "  def kruskal_mst(self): # Menor árvore geradora\n",
    "    self.kruskal = sorted(self.kruskal, key=lambda item: item[2]) # Ordena pelo peso: [p1, p2, weight]\n",
    "\n",
    "    edge_index = 0\n",
    "    result_index = 0\n",
    "    result = []\n",
    "    representative = []\n",
    "    rank = []\n",
    "\n",
    "    for node in range(self.v): # Inicializa, range(0, ...)\n",
    "      representative.append(node)\n",
    "      rank.append(0)\n",
    "\n",
    "    while result_index < self.v - 1: # Kruskal\n",
    "      p1, p2, weight = self.kruskal[edge_index]\n",
    "      edge_index += 1\n",
    "\n",
    "      x = self.find(representative, p1)\n",
    "      y = self.find(representative, p2)\n",
    "\n",
    "      if x != y: # Evita vértices conectados neles mesmos\n",
    "        result_index += 1\n",
    "        result.append([p1, p2, weight])\n",
    "        self.union(representative, rank, x, y)\n",
    "      # Else discard the edge\n",
    "\n",
    "    minimum_cost = 0\n",
    "    print(\"\\nPontes a serem construidas:\")\n",
    "\n",
    "    for p1, p2, weight in result:\n",
    "      minimum_cost += weight\n",
    "      print(\"%d -- %d == %d\" % (p1, p2, weight))\n",
    "      # print(\"%d -- %d == %d\" % (p1+1, p2+2, weight))\n",
    "\n",
    "    print(\"\\nMST ==\" , minimum_cost)"
   ]
  },
  {
   "cell_type": "markdown",
   "metadata": {},
   "source": [
    "## Existem 8 pequenas ilhas em um arquipélago e o governo deseja construir 7 pontes conectando-as de forma que cada ilha possa ser alcançada de qualquer outra ilha através de uma ou mais pontes. O custo de construção de uma ponte é proporcional ao seu comprimento. As distâncias entre os pares de ilhas são dados na tabela abaixo."
   ]
  },
  {
   "cell_type": "code",
   "execution_count": 2,
   "metadata": {},
   "outputs": [
    {
     "data": {
      "text/plain": [
       "'\\n\\n    1   2   3   4   5   6   7   8\\n1   -   240 210 340 280 200 345 120\\n2   -   -   265 175 215 180 185 155\\n3   -   -   -   260 115 350 435 195\\n4   -   -   -   -   160 330 295 230\\n5   -   -   -   -   -   360 400 170\\n6   -   -   -   -   -   -   175 205\\n7   -   -   -   -   -   -   -   305\\n8   -   -   -   -   -   -   -   -\\n\\n'"
      ]
     },
     "execution_count": 2,
     "metadata": {},
     "output_type": "execute_result"
    }
   ],
   "source": [
    "'''\n",
    "\n",
    "    1   2   3   4   5   6   7   8\n",
    "1   -   240 210 340 280 200 345 120\n",
    "2   -   -   265 175 215 180 185 155\n",
    "3   -   -   -   260 115 350 435 195\n",
    "4   -   -   -   -   160 330 295 230\n",
    "5   -   -   -   -   -   360 400 170\n",
    "6   -   -   -   -   -   -   175 205\n",
    "7   -   -   -   -   -   -   -   305\n",
    "8   -   -   -   -   -   -   -   -\n",
    "\n",
    "'''"
   ]
  },
  {
   "cell_type": "code",
   "execution_count": 3,
   "metadata": {},
   "outputs": [
    {
     "name": "stdout",
     "output_type": "stream",
     "text": [
      "\n",
      "Pontes a serem construidas:\n",
      "2 -- 4 == 115\n",
      "0 -- 7 == 120\n",
      "1 -- 7 == 155\n",
      "3 -- 4 == 160\n",
      "4 -- 7 == 170\n",
      "5 -- 6 == 175\n",
      "1 -- 5 == 180\n",
      "\n",
      "MST == 1075\n"
     ]
    }
   ],
   "source": [
    "g = KruskalGraph(8)\n",
    "g.edge_add(0, 1, 240)\n",
    "g.edge_add(0, 2, 210)\n",
    "g.edge_add(0, 3, 340)\n",
    "g.edge_add(0, 4, 280)\n",
    "g.edge_add(0, 5, 200)\n",
    "g.edge_add(0, 6, 345)\n",
    "g.edge_add(0, 7, 120)\n",
    "\n",
    "g.edge_add(1, 2, 265)\n",
    "g.edge_add(1, 3, 175)\n",
    "g.edge_add(1, 4, 215)\n",
    "g.edge_add(1, 5, 180)\n",
    "g.edge_add(1, 6, 185)\n",
    "g.edge_add(1, 7, 155)\n",
    "\n",
    "g.edge_add(2, 3, 260)\n",
    "g.edge_add(2, 4, 115)\n",
    "g.edge_add(2, 5, 350)\n",
    "g.edge_add(2, 6, 435)\n",
    "g.edge_add(2, 7, 195)\n",
    "\n",
    "g.edge_add(3, 4, 160)\n",
    "g.edge_add(3, 5, 330)\n",
    "g.edge_add(3, 6, 295)\n",
    "g.edge_add(3, 7, 230)\n",
    "\n",
    "g.edge_add(4, 5, 360)\n",
    "g.edge_add(4, 6, 400)\n",
    "g.edge_add(4, 7, 170)\n",
    "\n",
    "g.edge_add(5, 6, 175)\n",
    "g.edge_add(5, 7, 205)\n",
    "\n",
    "g.edge_add(6, 7, 305)\n",
    "\n",
    "g.kruskal_mst()"
   ]
  }
 ],
 "metadata": {
  "kernelspec": {
   "display_name": "Python 3.9.7 ('daf')",
   "language": "python",
   "name": "python3"
  },
  "language_info": {
   "codemirror_mode": {
    "name": "ipython",
    "version": 3
   },
   "file_extension": ".py",
   "mimetype": "text/x-python",
   "name": "python",
   "nbconvert_exporter": "python",
   "pygments_lexer": "ipython3",
   "version": "3.9.7"
  },
  "orig_nbformat": 4,
  "vscode": {
   "interpreter": {
    "hash": "1e50ef2d9daf8a03c7e8bf0a5670d6a3dfd095b25c509e258ed02dcf1a61e22f"
   }
  }
 },
 "nbformat": 4,
 "nbformat_minor": 2
}
