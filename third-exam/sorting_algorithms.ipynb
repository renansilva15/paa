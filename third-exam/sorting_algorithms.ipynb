{
 "cells": [
  {
   "cell_type": "markdown",
   "metadata": {},
   "source": [
    "# Third Exam – Sorting Algorithms"
   ]
  },
  {
   "cell_type": "markdown",
   "metadata": {},
   "source": [
    "## Bucket sort – Quicksort – Shell sort"
   ]
  },
  {
   "cell_type": "markdown",
   "metadata": {},
   "source": [
    "## Numbers for the experiment (cases)"
   ]
  },
  {
   "cell_type": "markdown",
   "metadata": {},
   "source": [
    "### Numbers"
   ]
  },
  {
   "cell_type": "code",
   "execution_count": 1,
   "metadata": {},
   "outputs": [],
   "source": [
    "#\n",
    "import random\n",
    "import time\n",
    "\n",
    "#\n",
    "random.seed(time.time())\n",
    "\n",
    "#\n",
    "numbers_50 = [random.randint(0, 10000) for _ in range(0, 50000)]\n",
    "numbers_100 = [random.randint(0, 10000) for _ in range(0, 100000)]\n",
    "numbers_500 = [random.randint(0, 10000) for _ in range(0, 500000)]"
   ]
  },
  {
   "cell_type": "markdown",
   "metadata": {},
   "source": [
    "### Random case"
   ]
  },
  {
   "cell_type": "code",
   "execution_count": 2,
   "metadata": {},
   "outputs": [],
   "source": [
    "#\n",
    "random = [numbers_50, numbers_100, numbers_500]"
   ]
  },
  {
   "cell_type": "markdown",
   "metadata": {},
   "source": [
    "### Best case"
   ]
  },
  {
   "cell_type": "code",
   "execution_count": 3,
   "metadata": {},
   "outputs": [],
   "source": [
    "#\n",
    "best = [numbers_50.copy(), numbers_100.copy(), numbers_500.copy()]\n",
    "best[0].sort()\n",
    "best[1].sort()\n",
    "best[2].sort()"
   ]
  },
  {
   "cell_type": "markdown",
   "metadata": {},
   "source": [
    "### Worst case"
   ]
  },
  {
   "cell_type": "code",
   "execution_count": 4,
   "metadata": {},
   "outputs": [],
   "source": [
    "#\n",
    "worst = [best[0].copy(), best[1].copy(), best[2].copy()]\n",
    "worst = [worst[0][::-1], worst[1][::-1], worst[2][::-1]]"
   ]
  },
  {
   "cell_type": "markdown",
   "metadata": {},
   "source": [
    "## Sorting algorithms"
   ]
  },
  {
   "cell_type": "markdown",
   "metadata": {},
   "source": [
    "### Bucket sort"
   ]
  },
  {
   "cell_type": "code",
   "execution_count": 5,
   "metadata": {},
   "outputs": [],
   "source": [
    "# https://www.programiz.com/dsa/bucket-sort#:~:text=Bucket%20Sort%20is%20a%20sorting,form%20a%20final%20sorted%20array.\n",
    "from operator import index\n",
    "\n",
    "\n",
    "def bucketSort(array):\n",
    "  bucket = []\n",
    "\n",
    "  # Create empty buckets\n",
    "  for i in range(len(array)):\n",
    "    bucket.append([])\n",
    "\n",
    "  # Insert elements into their respective buckets\n",
    "  for j in array:\n",
    "    # index_b = int(10 * j)\n",
    "    index_b = int(j / 100) #\n",
    "    bucket[index_b].append(j)\n",
    "\n",
    "  # Sort the elements of each bucket\n",
    "  for i in range(len(array)):\n",
    "    bucket[i] = sorted(bucket[i])\n",
    "\n",
    "  # Get the sorted elements\n",
    "  k = 0\n",
    "  for i in range(len(array)):\n",
    "    for j in range(len(bucket[i])):\n",
    "      array[k] = bucket[i][j]\n",
    "      k += 1\n",
    "  return array\n",
    "\n",
    "\n",
    "# array = [.42, .32, .33, .52, .37, .47, .51]\n",
    "# print(\"Sorted Array in descending order is\")\n",
    "# print(bucketSort(array))\n",
    "\n",
    "# print(bucketSort(random[0]))"
   ]
  },
  {
   "cell_type": "markdown",
   "metadata": {},
   "source": [
    "### Quicksort"
   ]
  },
  {
   "cell_type": "code",
   "execution_count": 6,
   "metadata": {},
   "outputs": [],
   "source": [
    "# https://stackabuse.com/quicksort-in-python/\n",
    "def partition(array, start, end):\n",
    "  pivot = array[start]\n",
    "  low = start + 1\n",
    "  high = end\n",
    "\n",
    "  while True:\n",
    "    # If the current value we're looking at is larger than the pivot\n",
    "    # it's in the right place (right side of pivot) and we can move left,\n",
    "    # to the next element.\n",
    "    # We also need to make sure we haven't surpassed the low pointer, since that\n",
    "    # indicates we have already moved all the elements to their correct side of the pivot\n",
    "    while low <= high and array[high] >= pivot:\n",
    "      high = high - 1\n",
    "\n",
    "    # Opposite process of the one above\n",
    "    while low <= high and array[low] <= pivot:\n",
    "      low = low + 1\n",
    "\n",
    "    # We either found a value for both high and low that is out of order\n",
    "    # or low is higher than high, in which case we exit the loop\n",
    "    if low <= high:\n",
    "      array[low], array[high] = array[high], array[low]\n",
    "      # The loop continues\n",
    "    else:\n",
    "      # We exit out of the loop\n",
    "      break\n",
    "\n",
    "  array[start], array[high] = array[high], array[start]\n",
    "\n",
    "  return high\n",
    "\n",
    "\n",
    "def quick_sort(array, start, end):\n",
    "  if start >= end:\n",
    "    return\n",
    "\n",
    "  p = partition(array, start, end)\n",
    "  quick_sort(array, start, p-1)\n",
    "  quick_sort(array, p+1, end)\n",
    "\n",
    "\n",
    "# array = [29,99,27,41,66,28,44,78,87,19,31,76,58,88,83,97,12,21,44]\n",
    "\n",
    "# quick_sort(array, 0, len(array) - 1)\n",
    "# print(array)\n",
    "\n",
    "# quick_sort(random[0], 0, len(random[0]) - 1)\n",
    "# print(random)"
   ]
  },
  {
   "cell_type": "markdown",
   "metadata": {},
   "source": [
    "### Shell sort"
   ]
  },
  {
   "cell_type": "code",
   "execution_count": 7,
   "metadata": {},
   "outputs": [],
   "source": [
    "# https://pt.wikipedia.org/wiki/Shell_sort\n",
    "def shellSort(nums):\n",
    "  h = 1\n",
    "  n = len(nums)\n",
    "  while h > 0:\n",
    "    for i in range(h, n):\n",
    "      c = nums[i]\n",
    "      j = i\n",
    "      while j >= h and c < nums[j - h]:\n",
    "        nums[j] = nums[j - h]\n",
    "        j = j - h\n",
    "        nums[j] = c\n",
    "    h = int(h / 2.2)\n",
    "  return nums\n",
    "\n",
    "\n",
    "# shellSort(random[0])"
   ]
  },
  {
   "cell_type": "markdown",
   "metadata": {},
   "source": [
    "## Sorting time"
   ]
  },
  {
   "cell_type": "markdown",
   "metadata": {},
   "source": [
    "### Worst case"
   ]
  },
  {
   "cell_type": "markdown",
   "metadata": {},
   "source": [
    "50000"
   ]
  },
  {
   "cell_type": "code",
   "execution_count": 8,
   "metadata": {},
   "outputs": [
    {
     "name": "stdout",
     "output_type": "stream",
     "text": [
      "Worst case (50000 numbers):\n",
      "\n",
      "Bucketsort = 0.13797998428344727\n",
      "Quicksort = RecursionError (maximum recursion depth exceeded)\n",
      "Shell sort = 128.40420532226562\n"
     ]
    }
   ],
   "source": [
    "#\n",
    "worst_copy = [worst[0].copy(), worst[1].copy(), worst[2].copy()]\n",
    "print('Worst case (50000 numbers):\\n')\n",
    "\n",
    "#\n",
    "worst = [worst_copy[0].copy(), worst_copy[1].copy(), worst_copy[2].copy()]\n",
    "\n",
    "initial_time = time.time()\n",
    "bucketSort(worst[0])\n",
    "final_time = time.time()\n",
    "\n",
    "print(f'Bucketsort = {final_time - initial_time}')\n",
    "\n",
    "#\n",
    "worst = [worst_copy[0].copy(), worst_copy[1].copy(), worst_copy[2].copy()]\n",
    "\n",
    "initial_time = time.time()\n",
    "try:\n",
    "  quick_sort(worst[0], 0, len(worst[0]) - 1)\n",
    "  final_time = time.time()\n",
    "  print(f'Quicksort = {final_time - initial_time}')\n",
    "\n",
    "except RecursionError:\n",
    "  print('Quicksort = RecursionError (maximum recursion depth exceeded)')\n",
    "\n",
    "#\n",
    "worst = [worst_copy[0].copy(), worst_copy[1].copy(), worst_copy[2].copy()]\n",
    "\n",
    "initial_time = time.time()\n",
    "shellSort(worst[0])\n",
    "final_time = time.time()\n",
    "\n",
    "print(f'Shell sort = {final_time - initial_time}')\n"
   ]
  },
  {
   "cell_type": "markdown",
   "metadata": {},
   "source": [
    "100000"
   ]
  },
  {
   "cell_type": "code",
   "execution_count": 9,
   "metadata": {},
   "outputs": [
    {
     "name": "stdout",
     "output_type": "stream",
     "text": [
      "Worst case (100000 numbers):\n",
      "\n",
      "Bucketsort = 0.1808795928955078\n",
      "Quicksort = RecursionError (maximum recursion depth exceeded)\n",
      "Shell sort = 564.7483162879944\n"
     ]
    }
   ],
   "source": [
    "#\n",
    "print('Worst case (100000 numbers):\\n')\n",
    "\n",
    "#\n",
    "worst = [worst_copy[0].copy(), worst_copy[1].copy(), worst_copy[2].copy()]\n",
    "\n",
    "initial_time = time.time()\n",
    "bucketSort(worst[1])\n",
    "final_time = time.time()\n",
    "\n",
    "print(f'Bucketsort = {final_time - initial_time}')\n",
    "\n",
    "#\n",
    "worst = [worst_copy[0].copy(), worst_copy[1].copy(), worst_copy[2].copy()]\n",
    "\n",
    "initial_time = time.time()\n",
    "try:\n",
    "  quick_sort(worst[1], 0, len(worst[1]) - 1)\n",
    "  final_time = time.time()\n",
    "  print(f'Quicksort = {final_time - initial_time}')\n",
    "\n",
    "except RecursionError:\n",
    "  print('Quicksort = RecursionError (maximum recursion depth exceeded)')\n",
    "\n",
    "#\n",
    "worst = [worst_copy[0].copy(), worst_copy[1].copy(), worst_copy[2].copy()]\n",
    "\n",
    "initial_time = time.time()\n",
    "shellSort(worst[1])\n",
    "final_time = time.time()\n",
    "\n",
    "print(f'Shell sort = {final_time - initial_time}')"
   ]
  },
  {
   "cell_type": "markdown",
   "metadata": {},
   "source": [
    "500000"
   ]
  },
  {
   "cell_type": "code",
   "execution_count": 11,
   "metadata": {},
   "outputs": [
    {
     "name": "stdout",
     "output_type": "stream",
     "text": [
      "Worst case (500000 numbers):\n",
      "\n",
      "Bucketsort = 0.8617973327636719\n",
      "Quicksort = RecursionError (maximum recursion depth exceeded)\n"
     ]
    },
    {
     "ename": "KeyboardInterrupt",
     "evalue": "",
     "output_type": "error",
     "traceback": [
      "\u001b[0;31m---------------------------------------------------------------------------\u001b[0m",
      "\u001b[0;31mKeyboardInterrupt\u001b[0m                         Traceback (most recent call last)",
      "\u001b[1;32m/mnt/c/renan/ufpi/2022.1/paa/third-exam/sorting_algorithms.ipynb Cell 26\u001b[0m in \u001b[0;36m<cell line: 29>\u001b[0;34m()\u001b[0m\n\u001b[1;32m     <a href='vscode-notebook-cell://wsl%2Bubuntu/mnt/c/renan/ufpi/2022.1/paa/third-exam/sorting_algorithms.ipynb#X34sdnNjb2RlLXJlbW90ZQ%3D%3D?line=25'>26</a>\u001b[0m worst \u001b[39m=\u001b[39m [worst_copy[\u001b[39m0\u001b[39m]\u001b[39m.\u001b[39mcopy(), worst_copy[\u001b[39m1\u001b[39m]\u001b[39m.\u001b[39mcopy(), worst_copy[\u001b[39m2\u001b[39m]\u001b[39m.\u001b[39mcopy()]\n\u001b[1;32m     <a href='vscode-notebook-cell://wsl%2Bubuntu/mnt/c/renan/ufpi/2022.1/paa/third-exam/sorting_algorithms.ipynb#X34sdnNjb2RlLXJlbW90ZQ%3D%3D?line=27'>28</a>\u001b[0m initial_time \u001b[39m=\u001b[39m time\u001b[39m.\u001b[39mtime()\n\u001b[0;32m---> <a href='vscode-notebook-cell://wsl%2Bubuntu/mnt/c/renan/ufpi/2022.1/paa/third-exam/sorting_algorithms.ipynb#X34sdnNjb2RlLXJlbW90ZQ%3D%3D?line=28'>29</a>\u001b[0m shellSort(worst[\u001b[39m2\u001b[39;49m])\n\u001b[1;32m     <a href='vscode-notebook-cell://wsl%2Bubuntu/mnt/c/renan/ufpi/2022.1/paa/third-exam/sorting_algorithms.ipynb#X34sdnNjb2RlLXJlbW90ZQ%3D%3D?line=29'>30</a>\u001b[0m final_time \u001b[39m=\u001b[39m time\u001b[39m.\u001b[39mtime()\n\u001b[1;32m     <a href='vscode-notebook-cell://wsl%2Bubuntu/mnt/c/renan/ufpi/2022.1/paa/third-exam/sorting_algorithms.ipynb#X34sdnNjb2RlLXJlbW90ZQ%3D%3D?line=31'>32</a>\u001b[0m \u001b[39mprint\u001b[39m(\u001b[39mf\u001b[39m\u001b[39m'\u001b[39m\u001b[39mShell sort = \u001b[39m\u001b[39m{\u001b[39;00mfinal_time \u001b[39m-\u001b[39m initial_time\u001b[39m}\u001b[39;00m\u001b[39m'\u001b[39m)\n",
      "\u001b[1;32m/mnt/c/renan/ufpi/2022.1/paa/third-exam/sorting_algorithms.ipynb Cell 26\u001b[0m in \u001b[0;36mshellSort\u001b[0;34m(nums)\u001b[0m\n\u001b[1;32m      <a href='vscode-notebook-cell://wsl%2Bubuntu/mnt/c/renan/ufpi/2022.1/paa/third-exam/sorting_algorithms.ipynb#X34sdnNjb2RlLXJlbW90ZQ%3D%3D?line=7'>8</a>\u001b[0m j \u001b[39m=\u001b[39m i\n\u001b[1;32m      <a href='vscode-notebook-cell://wsl%2Bubuntu/mnt/c/renan/ufpi/2022.1/paa/third-exam/sorting_algorithms.ipynb#X34sdnNjb2RlLXJlbW90ZQ%3D%3D?line=8'>9</a>\u001b[0m \u001b[39mwhile\u001b[39;00m j \u001b[39m>\u001b[39m\u001b[39m=\u001b[39m h \u001b[39mand\u001b[39;00m c \u001b[39m<\u001b[39m nums[j \u001b[39m-\u001b[39m h]:\n\u001b[0;32m---> <a href='vscode-notebook-cell://wsl%2Bubuntu/mnt/c/renan/ufpi/2022.1/paa/third-exam/sorting_algorithms.ipynb#X34sdnNjb2RlLXJlbW90ZQ%3D%3D?line=9'>10</a>\u001b[0m   nums[j] \u001b[39m=\u001b[39m nums[j \u001b[39m-\u001b[39;49m h]\n\u001b[1;32m     <a href='vscode-notebook-cell://wsl%2Bubuntu/mnt/c/renan/ufpi/2022.1/paa/third-exam/sorting_algorithms.ipynb#X34sdnNjb2RlLXJlbW90ZQ%3D%3D?line=10'>11</a>\u001b[0m   j \u001b[39m=\u001b[39m j \u001b[39m-\u001b[39m h\n\u001b[1;32m     <a href='vscode-notebook-cell://wsl%2Bubuntu/mnt/c/renan/ufpi/2022.1/paa/third-exam/sorting_algorithms.ipynb#X34sdnNjb2RlLXJlbW90ZQ%3D%3D?line=11'>12</a>\u001b[0m   nums[j] \u001b[39m=\u001b[39m c\n",
      "\u001b[0;31mKeyboardInterrupt\u001b[0m: "
     ]
    }
   ],
   "source": [
    "#\n",
    "print('Worst case (500000 numbers):\\n')\n",
    "\n",
    "#\n",
    "worst = [worst_copy[0].copy(), worst_copy[1].copy(), worst_copy[2].copy()]\n",
    "\n",
    "initial_time = time.time()\n",
    "bucketSort(worst[2])\n",
    "final_time = time.time()\n",
    "\n",
    "print(f'Bucketsort = {final_time - initial_time}')\n",
    "\n",
    "#\n",
    "worst = [worst_copy[0].copy(), worst_copy[1].copy(), worst_copy[2].copy()]\n",
    "\n",
    "initial_time = time.time()\n",
    "try:\n",
    "  quick_sort(worst[2], 0, len(worst[2]) - 1)\n",
    "  final_time = time.time()\n",
    "  print(f'Quicksort = {final_time - initial_time}')\n",
    "\n",
    "except RecursionError:\n",
    "  print('Quicksort = RecursionError (maximum recursion depth exceeded)')\n",
    "\n",
    "#\n",
    "worst = [worst_copy[0].copy(), worst_copy[1].copy(), worst_copy[2].copy()]\n",
    "\n",
    "initial_time = time.time()\n",
    "shellSort(worst[2])\n",
    "final_time = time.time()\n",
    "\n",
    "print(f'Shell sort = {final_time - initial_time}')"
   ]
  },
  {
   "cell_type": "markdown",
   "metadata": {},
   "source": [
    "### Best case"
   ]
  },
  {
   "cell_type": "markdown",
   "metadata": {},
   "source": [
    "50000"
   ]
  },
  {
   "cell_type": "code",
   "execution_count": 12,
   "metadata": {},
   "outputs": [
    {
     "name": "stdout",
     "output_type": "stream",
     "text": [
      "Best case (50000 numbers):\n",
      "\n",
      "Bucketsort = 0.41556787490844727\n",
      "Quicksort = RecursionError (maximum recursion depth exceeded)\n",
      "Shell sort = 0.003951549530029297\n"
     ]
    }
   ],
   "source": [
    "#\n",
    "best_copy = best.copy()\n",
    "print('Best case (50000 numbers):\\n')\n",
    "\n",
    "#\n",
    "best = [best_copy[0].copy(), best_copy[1].copy(), best_copy[2].copy()]\n",
    "\n",
    "initial_time = time.time()\n",
    "bucketSort(best[0])\n",
    "final_time = time.time()\n",
    "\n",
    "print(f'Bucketsort = {final_time - initial_time}')\n",
    "\n",
    "#\n",
    "best = [best_copy[0].copy(), best_copy[1].copy(), best_copy[2].copy()]\n",
    "\n",
    "initial_time = time.time()\n",
    "try:\n",
    "  quick_sort(best[0], 0, len(best[0]) - 1)\n",
    "  final_time = time.time()\n",
    "  print(f'Quicksort = {final_time - initial_time}')\n",
    "\n",
    "except RecursionError:\n",
    "  print('Quicksort = RecursionError (maximum recursion depth exceeded)')\n",
    "\n",
    "#\n",
    "best = [best_copy[0].copy(), best_copy[1].copy(), best_copy[2].copy()]\n",
    "\n",
    "initial_time = time.time()\n",
    "shellSort(best[0])\n",
    "final_time = time.time()\n",
    "\n",
    "print(f'Shell sort = {final_time - initial_time}')"
   ]
  },
  {
   "cell_type": "markdown",
   "metadata": {},
   "source": [
    "100000"
   ]
  },
  {
   "cell_type": "code",
   "execution_count": 13,
   "metadata": {},
   "outputs": [
    {
     "name": "stdout",
     "output_type": "stream",
     "text": [
      "Best case (100000 numbers):\n",
      "\n",
      "Bucketsort = 0.29561614990234375\n",
      "Quicksort = RecursionError (maximum recursion depth exceeded)\n",
      "Shell sort = 0.00912928581237793\n"
     ]
    }
   ],
   "source": [
    "#\n",
    "best_copy = best.copy()\n",
    "print('Best case (100000 numbers):\\n')\n",
    "\n",
    "#\n",
    "best = [best_copy[0].copy(), best_copy[1].copy(), best_copy[2].copy()]\n",
    "\n",
    "initial_time = time.time()\n",
    "bucketSort(best[1])\n",
    "final_time = time.time()\n",
    "\n",
    "print(f'Bucketsort = {final_time - initial_time}')\n",
    "\n",
    "#\n",
    "best = [best_copy[0].copy(), best_copy[1].copy(), best_copy[2].copy()]\n",
    "\n",
    "initial_time = time.time()\n",
    "try:\n",
    "  quick_sort(best[1], 0, len(best[1]) - 1)\n",
    "  final_time = time.time()\n",
    "  print(f'Quicksort = {final_time - initial_time}')\n",
    "\n",
    "except RecursionError:\n",
    "  print('Quicksort = RecursionError (maximum recursion depth exceeded)')\n",
    "\n",
    "#\n",
    "best = [best_copy[0].copy(), best_copy[1].copy(), best_copy[2].copy()]\n",
    "\n",
    "initial_time = time.time()\n",
    "shellSort(best[1])\n",
    "final_time = time.time()\n",
    "\n",
    "print(f'Shell sort = {final_time - initial_time}')"
   ]
  },
  {
   "cell_type": "markdown",
   "metadata": {},
   "source": [
    "500000"
   ]
  },
  {
   "cell_type": "code",
   "execution_count": 14,
   "metadata": {},
   "outputs": [
    {
     "name": "stdout",
     "output_type": "stream",
     "text": [
      "Best case (50000 numbers):\n",
      "\n",
      "Bucketsort = 0.9412665367126465\n",
      "Quicksort = RecursionError (maximum recursion depth exceeded)\n",
      "Shell sort = 0.06429815292358398\n"
     ]
    }
   ],
   "source": [
    "#\n",
    "best_copy = best.copy()\n",
    "print('Best case (50000 numbers):\\n')\n",
    "\n",
    "#\n",
    "best = [best_copy[0].copy(), best_copy[1].copy(), best_copy[2].copy()]\n",
    "\n",
    "initial_time = time.time()\n",
    "bucketSort(best[2])\n",
    "final_time = time.time()\n",
    "\n",
    "print(f'Bucketsort = {final_time - initial_time}')\n",
    "\n",
    "#\n",
    "best = [best_copy[0].copy(), best_copy[1].copy(), best_copy[2].copy()]\n",
    "\n",
    "initial_time = time.time()\n",
    "try:\n",
    "  quick_sort(best[2], 0, len(best[2]) - 1)\n",
    "  final_time = time.time()\n",
    "  print(f'Quicksort = {final_time - initial_time}')\n",
    "\n",
    "except RecursionError:\n",
    "  print('Quicksort = RecursionError (maximum recursion depth exceeded)')\n",
    "\n",
    "#\n",
    "best = [best_copy[0].copy(), best_copy[1].copy(), best_copy[2].copy()]\n",
    "\n",
    "initial_time = time.time()\n",
    "shellSort(best[2])\n",
    "final_time = time.time()\n",
    "\n",
    "print(f'Shell sort = {final_time - initial_time}')"
   ]
  },
  {
   "cell_type": "markdown",
   "metadata": {},
   "source": [
    "### Random case"
   ]
  },
  {
   "cell_type": "markdown",
   "metadata": {},
   "source": [
    "50000"
   ]
  },
  {
   "cell_type": "code",
   "execution_count": 15,
   "metadata": {},
   "outputs": [
    {
     "name": "stdout",
     "output_type": "stream",
     "text": [
      "Random case (50000 numbers):\n",
      "\n",
      "Bucketsort = 0.07027459144592285\n",
      "Quicksort = 0.07496094703674316\n",
      "Shell sort = 61.44835019111633\n"
     ]
    }
   ],
   "source": [
    "#\n",
    "random_copy = random.copy()\n",
    "print('Random case (50000 numbers):\\n')\n",
    "\n",
    "#\n",
    "random = [random_copy[0].copy(), random_copy[1].copy(), random_copy[2].copy()]\n",
    "\n",
    "initial_time = time.time()\n",
    "bucketSort(random[0])\n",
    "final_time = time.time()\n",
    "\n",
    "print(f'Bucketsort = {final_time - initial_time}')\n",
    "\n",
    "#\n",
    "random = [random_copy[0].copy(), random_copy[1].copy(), random_copy[2].copy()]\n",
    "\n",
    "initial_time = time.time()\n",
    "try:\n",
    "  quick_sort(random[0], 0, len(random[0]) - 1)\n",
    "  final_time = time.time()\n",
    "  print(f'Quicksort = {final_time - initial_time}')\n",
    "\n",
    "except RecursionError:\n",
    "  print('Quicksort = RecursionError (maximum recursion depth exceeded)')\n",
    "\n",
    "#\n",
    "random = [random_copy[0].copy(), random_copy[1].copy(), random_copy[2].copy()]\n",
    "\n",
    "initial_time = time.time()\n",
    "shellSort(random[0])\n",
    "final_time = time.time()\n",
    "\n",
    "print(f'Shell sort = {final_time - initial_time}')"
   ]
  },
  {
   "cell_type": "markdown",
   "metadata": {},
   "source": [
    "100000"
   ]
  },
  {
   "cell_type": "code",
   "execution_count": 16,
   "metadata": {},
   "outputs": [
    {
     "name": "stdout",
     "output_type": "stream",
     "text": [
      "Random case (100000 numbers):\n",
      "\n",
      "Bucketsort = 0.22112631797790527\n",
      "Quicksort = 0.17633843421936035\n",
      "Shell sort = 294.53361773490906\n"
     ]
    }
   ],
   "source": [
    "#\n",
    "random_copy = random.copy()\n",
    "print('Random case (100000 numbers):\\n')\n",
    "\n",
    "#\n",
    "random = [random_copy[0].copy(), random_copy[1].copy(), random_copy[2].copy()]\n",
    "\n",
    "initial_time = time.time()\n",
    "bucketSort(random[1])\n",
    "final_time = time.time()\n",
    "\n",
    "print(f'Bucketsort = {final_time - initial_time}')\n",
    "\n",
    "#\n",
    "random = [random_copy[0].copy(), random_copy[1].copy(), random_copy[2].copy()]\n",
    "\n",
    "initial_time = time.time()\n",
    "try:\n",
    "  quick_sort(random[1], 0, len(random[1]) - 1)\n",
    "  final_time = time.time()\n",
    "  print(f'Quicksort = {final_time - initial_time}')\n",
    "\n",
    "except RecursionError:\n",
    "  print('Quicksort = RecursionError (maximum recursion depth exceeded)')\n",
    "\n",
    "#\n",
    "random = [random_copy[0].copy(), random_copy[1].copy(), random_copy[2].copy()]\n",
    "\n",
    "initial_time = time.time()\n",
    "shellSort(random[1])\n",
    "final_time = time.time()\n",
    "\n",
    "print(f'Shell sort = {final_time - initial_time}')"
   ]
  },
  {
   "cell_type": "markdown",
   "metadata": {},
   "source": [
    "500000"
   ]
  },
  {
   "cell_type": "code",
   "execution_count": 17,
   "metadata": {},
   "outputs": [
    {
     "name": "stdout",
     "output_type": "stream",
     "text": [
      "Random case (100000 numbers):\n",
      "\n",
      "Bucketsort = 1.1296372413635254\n",
      "Quicksort = 2.0223758220672607\n"
     ]
    },
    {
     "ename": "KeyboardInterrupt",
     "evalue": "",
     "output_type": "error",
     "traceback": [
      "\u001b[0;31m---------------------------------------------------------------------------\u001b[0m",
      "\u001b[0;31mKeyboardInterrupt\u001b[0m                         Traceback (most recent call last)",
      "\u001b[1;32m/mnt/c/renan/ufpi/2022.1/paa/third-exam/sorting_algorithms.ipynb Cell 40\u001b[0m in \u001b[0;36m<cell line: 30>\u001b[0;34m()\u001b[0m\n\u001b[1;32m     <a href='vscode-notebook-cell://wsl%2Bubuntu/mnt/c/renan/ufpi/2022.1/paa/third-exam/sorting_algorithms.ipynb#X55sdnNjb2RlLXJlbW90ZQ%3D%3D?line=26'>27</a>\u001b[0m random \u001b[39m=\u001b[39m [random_copy[\u001b[39m0\u001b[39m]\u001b[39m.\u001b[39mcopy(), random_copy[\u001b[39m1\u001b[39m]\u001b[39m.\u001b[39mcopy(), random_copy[\u001b[39m2\u001b[39m]\u001b[39m.\u001b[39mcopy()]\n\u001b[1;32m     <a href='vscode-notebook-cell://wsl%2Bubuntu/mnt/c/renan/ufpi/2022.1/paa/third-exam/sorting_algorithms.ipynb#X55sdnNjb2RlLXJlbW90ZQ%3D%3D?line=28'>29</a>\u001b[0m initial_time \u001b[39m=\u001b[39m time\u001b[39m.\u001b[39mtime()\n\u001b[0;32m---> <a href='vscode-notebook-cell://wsl%2Bubuntu/mnt/c/renan/ufpi/2022.1/paa/third-exam/sorting_algorithms.ipynb#X55sdnNjb2RlLXJlbW90ZQ%3D%3D?line=29'>30</a>\u001b[0m shellSort(random[\u001b[39m2\u001b[39;49m])\n\u001b[1;32m     <a href='vscode-notebook-cell://wsl%2Bubuntu/mnt/c/renan/ufpi/2022.1/paa/third-exam/sorting_algorithms.ipynb#X55sdnNjb2RlLXJlbW90ZQ%3D%3D?line=30'>31</a>\u001b[0m final_time \u001b[39m=\u001b[39m time\u001b[39m.\u001b[39mtime()\n\u001b[1;32m     <a href='vscode-notebook-cell://wsl%2Bubuntu/mnt/c/renan/ufpi/2022.1/paa/third-exam/sorting_algorithms.ipynb#X55sdnNjb2RlLXJlbW90ZQ%3D%3D?line=32'>33</a>\u001b[0m \u001b[39mprint\u001b[39m(\u001b[39mf\u001b[39m\u001b[39m'\u001b[39m\u001b[39mShell sort = \u001b[39m\u001b[39m{\u001b[39;00mfinal_time \u001b[39m-\u001b[39m initial_time\u001b[39m}\u001b[39;00m\u001b[39m'\u001b[39m)\n",
      "\u001b[1;32m/mnt/c/renan/ufpi/2022.1/paa/third-exam/sorting_algorithms.ipynb Cell 40\u001b[0m in \u001b[0;36mshellSort\u001b[0;34m(nums)\u001b[0m\n\u001b[1;32m      <a href='vscode-notebook-cell://wsl%2Bubuntu/mnt/c/renan/ufpi/2022.1/paa/third-exam/sorting_algorithms.ipynb#X55sdnNjb2RlLXJlbW90ZQ%3D%3D?line=6'>7</a>\u001b[0m c \u001b[39m=\u001b[39m nums[i]\n\u001b[1;32m      <a href='vscode-notebook-cell://wsl%2Bubuntu/mnt/c/renan/ufpi/2022.1/paa/third-exam/sorting_algorithms.ipynb#X55sdnNjb2RlLXJlbW90ZQ%3D%3D?line=7'>8</a>\u001b[0m j \u001b[39m=\u001b[39m i\n\u001b[0;32m----> <a href='vscode-notebook-cell://wsl%2Bubuntu/mnt/c/renan/ufpi/2022.1/paa/third-exam/sorting_algorithms.ipynb#X55sdnNjb2RlLXJlbW90ZQ%3D%3D?line=8'>9</a>\u001b[0m \u001b[39mwhile\u001b[39;00m j \u001b[39m>\u001b[39m\u001b[39m=\u001b[39m h \u001b[39mand\u001b[39;00m c \u001b[39m<\u001b[39m nums[j \u001b[39m-\u001b[39;49m h]:\n\u001b[1;32m     <a href='vscode-notebook-cell://wsl%2Bubuntu/mnt/c/renan/ufpi/2022.1/paa/third-exam/sorting_algorithms.ipynb#X55sdnNjb2RlLXJlbW90ZQ%3D%3D?line=9'>10</a>\u001b[0m   nums[j] \u001b[39m=\u001b[39m nums[j \u001b[39m-\u001b[39m h]\n\u001b[1;32m     <a href='vscode-notebook-cell://wsl%2Bubuntu/mnt/c/renan/ufpi/2022.1/paa/third-exam/sorting_algorithms.ipynb#X55sdnNjb2RlLXJlbW90ZQ%3D%3D?line=10'>11</a>\u001b[0m   j \u001b[39m=\u001b[39m j \u001b[39m-\u001b[39m h\n",
      "\u001b[0;31mKeyboardInterrupt\u001b[0m: "
     ]
    }
   ],
   "source": [
    "#\n",
    "random_copy = random.copy()\n",
    "print('Random case (100000 numbers):\\n')\n",
    "\n",
    "#\n",
    "random = [random_copy[0].copy(), random_copy[1].copy(), random_copy[2].copy()]\n",
    "\n",
    "initial_time = time.time()\n",
    "bucketSort(random[2])\n",
    "final_time = time.time()\n",
    "\n",
    "print(f'Bucketsort = {final_time - initial_time}')\n",
    "\n",
    "#\n",
    "random = [random_copy[0].copy(), random_copy[1].copy(), random_copy[2].copy()]\n",
    "\n",
    "initial_time = time.time()\n",
    "try:\n",
    "  quick_sort(random[2], 0, len(random[2]) - 1)\n",
    "  final_time = time.time()\n",
    "  print(f'Quicksort = {final_time - initial_time}')\n",
    "\n",
    "except RecursionError:\n",
    "  print('Quicksort = RecursionError (maximum recursion depth exceeded)')\n",
    "\n",
    "#\n",
    "random = [random_copy[0].copy(), random_copy[1].copy(), random_copy[2].copy()]\n",
    "\n",
    "initial_time = time.time()\n",
    "shellSort(random[2])\n",
    "final_time = time.time()\n",
    "\n",
    "print(f'Shell sort = {final_time - initial_time}')"
   ]
  }
 ],
 "metadata": {
  "kernelspec": {
   "display_name": "Python 3.9.7 ('daf')",
   "language": "python",
   "name": "python3"
  },
  "language_info": {
   "codemirror_mode": {
    "name": "ipython",
    "version": 3
   },
   "file_extension": ".py",
   "mimetype": "text/x-python",
   "name": "python",
   "nbconvert_exporter": "python",
   "pygments_lexer": "ipython3",
   "version": "3.9.7"
  },
  "orig_nbformat": 4,
  "vscode": {
   "interpreter": {
    "hash": "1e50ef2d9daf8a03c7e8bf0a5670d6a3dfd095b25c509e258ed02dcf1a61e22f"
   }
  }
 },
 "nbformat": 4,
 "nbformat_minor": 2
}
