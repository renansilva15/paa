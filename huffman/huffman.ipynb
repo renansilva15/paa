{
 "cells": [
  {
   "cell_type": "markdown",
   "metadata": {},
   "source": [
    "# Huffman algorithm with compression ratio"
   ]
  },
  {
   "cell_type": "markdown",
   "metadata": {},
   "source": [
    "# Load file -> huffman algorithm -> print compression rate"
   ]
  },
  {
   "cell_type": "markdown",
   "metadata": {},
   "source": [
    "## Load file"
   ]
  },
  {
   "cell_type": "code",
   "execution_count": 1,
   "metadata": {},
   "outputs": [
    {
     "data": {
      "text/plain": [
       "'Oi, eu sou Goku!'"
      ]
     },
     "execution_count": 1,
     "metadata": {},
     "output_type": "execute_result"
    }
   ],
   "source": [
    "# Load text from the file\n",
    "file = open(\"test.txt\", \"r\")\n",
    "text = file.read().replace('\\n', '')\n",
    "\n",
    "text"
   ]
  },
  {
   "cell_type": "markdown",
   "metadata": {},
   "source": [
    "## Huffman algorithm"
   ]
  },
  {
   "cell_type": "code",
   "execution_count": 2,
   "metadata": {},
   "outputs": [
    {
     "data": {
      "text/plain": [
       "{'O': 1,\n",
       " 'i': 1,\n",
       " ',': 1,\n",
       " ' ': 3,\n",
       " 'e': 1,\n",
       " 'u': 3,\n",
       " 's': 1,\n",
       " 'o': 2,\n",
       " 'G': 1,\n",
       " 'k': 1,\n",
       " '!': 1}"
      ]
     },
     "execution_count": 2,
     "metadata": {},
     "output_type": "execute_result"
    }
   ],
   "source": [
    "# Frequency of characters\n",
    "my_dict = {}\n",
    "for i in text:\n",
    "  try:\n",
    "    my_dict[i] += 1\n",
    "\n",
    "  except KeyError:\n",
    "    my_dict[i] = 1\n",
    "\n",
    "my_dict"
   ]
  },
  {
   "cell_type": "code",
   "execution_count": 3,
   "metadata": {},
   "outputs": [],
   "source": [
    "# Node class\n",
    "class Node:\n",
    "  def __init__(self, frequency, symbol, left=None, right=None):\n",
    "    # Frequency of symbol\n",
    "    self.frequency = frequency\n",
    "\n",
    "    # Symbol name (character)\n",
    "    self.symbol = symbol\n",
    "\n",
    "    # Left node of current node\n",
    "    self.left = left\n",
    "\n",
    "    # Right node of current node\n",
    "    self.right = right\n",
    "\n",
    "    self.binary = ''"
   ]
  },
  {
   "cell_type": "code",
   "execution_count": 4,
   "metadata": {},
   "outputs": [],
   "source": [
    "# Create tree\n",
    "nodes = []\n",
    "\n",
    "for i in my_dict:\n",
    "  nodes.append(Node(my_dict[i], i))\n",
    "\n",
    "# for i in range(len(nodes)):\n",
    "#   print('Symbol: ', nodes[i].symbol, 'frequency: ', nodes[i].frequency)\n",
    "\n",
    "while len(nodes) > 1:\n",
    "  nodes = sorted(nodes, key=lambda x: x.frequency)\n",
    "\n",
    "  # for i in range(len(nodes)):\n",
    "  #   print('Symbol: ', nodes[i].symbol, 'frequency: ', nodes[i].frequency)\n",
    "\n",
    "  # print()\n",
    "\n",
    "  left = nodes[0]\n",
    "  right = nodes[1]\n",
    "\n",
    "  left.binary = '0'\n",
    "  right.binary = '1'\n",
    "\n",
    "  new_node = Node(left.frequency + right.frequency, left.symbol + right.symbol, left, right)\n",
    "\n",
    "  nodes.remove(left)\n",
    "  nodes.remove(right)\n",
    "  nodes.append(new_node)"
   ]
  },
  {
   "cell_type": "code",
   "execution_count": 5,
   "metadata": {},
   "outputs": [],
   "source": [
    "# Create huffman table\n",
    "def huffman_table(node, binary='', table={}):\n",
    "    binary_word = binary + node.binary\n",
    "\n",
    "    if node.left:\n",
    "        huffman_table(node.left, binary_word, table)\n",
    "\n",
    "    if node.right:\n",
    "        huffman_table(node.right, binary_word, table)\n",
    "\n",
    "    if (not node.left) and (not node.right):\n",
    "        table[node.symbol] = binary_word\n",
    "        # print(f\"{node.symbol} -> {binary_word}\")\n",
    "\n",
    "    return table\n",
    "\n",
    "h_table = huffman_table(nodes[0])"
   ]
  },
  {
   "cell_type": "markdown",
   "metadata": {},
   "source": [
    "### Create aux table"
   ]
  },
  {
   "cell_type": "code",
   "execution_count": 6,
   "metadata": {},
   "outputs": [
    {
     "name": "stdout",
     "output_type": "stream",
     "text": [
      "Huffman table:\n",
      " {'u': '00', 'o': '010', 'O': '0110', 'i': '0111', ',': '1000', 'e': '1001', 's': '1010', 'G': '1011', 'k': '1100', '!': '1101', ' ': '111'} \n",
      "\n",
      "Table:\n",
      " {'O': '0000', 'i': '0001', ',': '0010', ' ': '0011', 'e': '0100', 'u': '0101', 's': '0110', 'o': '0111', 'G': '1000', 'k': '1001', '!': '1010'}\n"
     ]
    }
   ],
   "source": [
    "# \"Oi, eu sou o Goku!\"\n",
    "table = {'O': '0000', 'i': '0001', ',': '0010', ' ': '0011', 'e': '0100', 'u': '0101', 's': '0110', 'o': '0111', 'G': '1000', 'k': '1001', '!':  '1010'}\n",
    "\n",
    "print('Huffman table:\\n', h_table, '\\n\\nTable:\\n', table)"
   ]
  },
  {
   "cell_type": "markdown",
   "metadata": {},
   "source": [
    "### Binary word and binary compressed word"
   ]
  },
  {
   "cell_type": "code",
   "execution_count": 7,
   "metadata": {},
   "outputs": [
    {
     "name": "stdout",
     "output_type": "stream",
     "text": [
      "Oi, eu sou Goku!\n",
      "\n",
      "Word:\n",
      " 0000000100100011010001010011011001110101001110000111100101011010 \n",
      "\n",
      "Compressed word:\n",
      " 01100111100011110010011110100100011110110101100001101\n"
     ]
    }
   ],
   "source": [
    "# Compression\n",
    "print(text)\n",
    "\n",
    "word = ''\n",
    "compressed_word = ''\n",
    "\n",
    "for i in text:\n",
    "  word += table[i]\n",
    "  compressed_word += h_table[i]\n",
    "\n",
    "print('\\nWord:\\n', word, '\\n\\nCompressed word:\\n', compressed_word)"
   ]
  },
  {
   "cell_type": "markdown",
   "metadata": {},
   "source": [
    "### Compression rate"
   ]
  },
  {
   "cell_type": "code",
   "execution_count": 8,
   "metadata": {},
   "outputs": [
    {
     "name": "stdout",
     "output_type": "stream",
     "text": [
      "Compression rate = 17.19%\n"
     ]
    }
   ],
   "source": [
    "# Compression rate\n",
    "compression_rate = (len(compressed_word) * 100) / len(word)\n",
    "compression_rate = 100 - compression_rate\n",
    "\n",
    "print(f'Compression rate = {compression_rate:,.2f}%')"
   ]
  }
 ],
 "metadata": {
  "kernelspec": {
   "display_name": "Python 3.9.7 ('daf')",
   "language": "python",
   "name": "python3"
  },
  "language_info": {
   "codemirror_mode": {
    "name": "ipython",
    "version": 3
   },
   "file_extension": ".py",
   "mimetype": "text/x-python",
   "name": "python",
   "nbconvert_exporter": "python",
   "pygments_lexer": "ipython3",
   "version": "3.9.7"
  },
  "orig_nbformat": 4,
  "vscode": {
   "interpreter": {
    "hash": "1e50ef2d9daf8a03c7e8bf0a5670d6a3dfd095b25c509e258ed02dcf1a61e22f"
   }
  }
 },
 "nbformat": 4,
 "nbformat_minor": 2
}
